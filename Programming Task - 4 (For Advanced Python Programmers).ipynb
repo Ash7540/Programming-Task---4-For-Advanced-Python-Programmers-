{
 "cells": [
  {
   "cell_type": "code",
   "execution_count": null,
   "id": "50c609f0",
   "metadata": {},
   "outputs": [],
   "source": [
    "# Single Number\n",
    "class Solution:\n",
    "    def singleNumber(self, nums: List[int]) -> int:\n",
    "        return sum(list(set(nums)) * 2) - sum(nums)"
   ]
  },
  {
   "cell_type": "code",
   "execution_count": null,
   "id": "d3c6b57f",
   "metadata": {},
   "outputs": [],
   "source": [
    "# Sort Integers by The Number of 1 Bits\n",
    "class Solution:\n",
    "    def sortByBits(self, arr: List[int]) -> List[int]:\n",
    "        return sorted(sorted(arr), key=lambda x: bin(x).count('1'))"
   ]
  },
  {
   "cell_type": "code",
   "execution_count": null,
   "id": "8c40afd9",
   "metadata": {},
   "outputs": [],
   "source": [
    "# Single Number III\n",
    "class Solution:\n",
    "    def singleNumber(self, nums: List[int]) -> List[int]:\n",
    "        a=defaultdict(lambda:0)\n",
    "        for i in(nums):\n",
    "            a[i]+=1\n",
    "        answer=[]\n",
    "        for j in a:\n",
    "            if(a[j]==1):\n",
    "                answer.append(j)\n",
    "        return answer"
   ]
  },
  {
   "cell_type": "code",
   "execution_count": null,
   "id": "07807712",
   "metadata": {},
   "outputs": [],
   "source": [
    "# Subsets\n",
    "class Solution:\n",
    "    def subsets(self, nums: List[int]) -> List[List[int]]:\n",
    "        result = []\n",
    "        def rdf(i,subset):\n",
    "            if i>=len(nums):\n",
    "                result.append(subset)\n",
    "                return\n",
    "            rdf(i+1,subset+[nums[i]])\n",
    "            rdf(i+1,subset)\n",
    "        rdf(0,[])\n",
    "        return result        \n",
    "       "
   ]
  }
 ],
 "metadata": {
  "kernelspec": {
   "display_name": "Python 3 (ipykernel)",
   "language": "python",
   "name": "python3"
  },
  "language_info": {
   "codemirror_mode": {
    "name": "ipython",
    "version": 3
   },
   "file_extension": ".py",
   "mimetype": "text/x-python",
   "name": "python",
   "nbconvert_exporter": "python",
   "pygments_lexer": "ipython3",
   "version": "3.9.12"
  }
 },
 "nbformat": 4,
 "nbformat_minor": 5
}
